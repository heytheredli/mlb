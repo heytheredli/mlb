{
 "cells": [
  {
   "cell_type": "code",
   "execution_count": 1,
   "metadata": {
    "scrolled": true
   },
   "outputs": [
    {
     "name": "stdout",
     "output_type": "stream",
     "text": [
      "2018.0    1535\n",
      "2017.0    1494\n",
      "2015.0    1486\n",
      "2016.0    1483\n",
      "2014.0    1435\n",
      "2013.0    1409\n",
      "2012.0    1408\n",
      "2011.0    1389\n",
      "2009.0    1388\n",
      "2007.0    1385\n",
      "2008.0    1385\n",
      "2000.0    1384\n",
      "2006.0    1377\n",
      "2010.0    1356\n",
      "2003.0    1347\n",
      "2004.0    1346\n",
      "2001.0    1339\n",
      "2005.0    1330\n",
      "1998.0    1322\n",
      "2002.0    1319\n",
      "1999.0    1299\n",
      "1995.0    1253\n",
      "1996.0    1253\n",
      "1997.0    1236\n",
      "1993.0    1180\n",
      "1990.0    1115\n",
      "1991.0    1086\n",
      "1989.0    1073\n",
      "1992.0    1066\n",
      "1987.0    1048\n",
      "          ... \n",
      "1905.0     407\n",
      "1904.0     406\n",
      "1903.0     400\n",
      "1885.0     353\n",
      "1888.0     352\n",
      "1886.0     351\n",
      "1899.0     348\n",
      "1889.0     342\n",
      "1887.0     333\n",
      "1898.0     323\n",
      "1892.0     312\n",
      "1895.0     305\n",
      "1896.0     295\n",
      "1894.0     295\n",
      "1893.0     286\n",
      "1883.0     283\n",
      "1897.0     280\n",
      "1882.0     252\n",
      "1875.0     218\n",
      "1900.0     195\n",
      "1872.0     157\n",
      "1880.0     135\n",
      "1881.0     132\n",
      "1879.0     127\n",
      "1873.0     125\n",
      "1876.0     124\n",
      "1874.0     123\n",
      "1871.0     115\n",
      "1877.0      98\n",
      "1878.0      80\n",
      "Name: yearID, Length: 149, dtype: int64\n"
     ]
    }
   ],
   "source": [
    "import pandas as pd\n",
    "import yaml\n",
    "import plotly.graph_objects as go\n",
    "\n",
    "with open(\"config.yml\", 'r') as stream:\n",
    "    CONFIG = yaml.load(stream)\n",
    "\n",
    "# Grabbing and generating raw data (global variables)\n",
    "RAW_DATA = {}\n",
    "\n",
    "for rawfile in CONFIG['rawfiles'].keys():\n",
    "    RAW_DATA[rawfile] = {\"data\": pd.read_csv(CONFIG['rawfiles'][rawfile], nrows=10)}\n",
    "    RAW_DATA[rawfile][\"all_cols\"] = RAW_DATA[rawfile][\"data\"].columns\n",
    "    RAW_DATA[rawfile][\"id_cols\"] = [col\n",
    "                                        for col in RAW_DATA[rawfile][\"data\"].columns\n",
    "                                            if col.lower() in [x.lower() for x in CONFIG['id_cols']]\n",
    "                                    ]\n",
    "# for dataset in RAW_DATA.keys():\n",
    "#     print(dataset, \"all cols : \", RAW_DATA[dataset][\"all_cols\"])\n",
    "#     print(dataset, \"id cols: \", RAW_DATA[dataset][\"id_cols\"])\n",
    "\n",
    "def join_data(data1_name, data2_name):\n",
    "    \"\"\"\n",
    "    Function to join two datasets together (left on data1, data2 into data1)\n",
    "\n",
    "    Inputs\n",
    "    ------\n",
    "\n",
    "    data1_name: String - base dataset\n",
    "    data2_name: String - dataset to be joined to data1\n",
    "\n",
    "    Returns\n",
    "    -------\n",
    "\n",
    "    dict(joined_dataset, all columns of joined dataset, id columns of joined dataset)\n",
    "    \"\"\"\n",
    "    data1 = pd.read_csv(CONFIG['rawfiles'][data1_name])\n",
    "    data2 = pd.read_csv(CONFIG['rawfiles'][data2_name])\n",
    "    join_keys = list(set(RAW_DATA[data1_name]['id_cols']).intersection(RAW_DATA[data2_name]['id_cols']))\n",
    "    joined_data = data1.merge(data2, how='left', on=join_keys)\n",
    "    return {\"data\": joined_data, \"all_cols\": joined_data.columns, \"id_cols\": join_keys}\n",
    "    \n",
    "\n",
    "final_data = {}\n",
    "final_data['People_Batting'] = join_data('People', 'Batting')\n",
    "print(final_data['People_Batting'][\"data\"]['yearID'].value_counts(dropna=False))\n"
   ]
  },
  {
   "cell_type": "code",
   "execution_count": 8,
   "metadata": {},
   "outputs": [],
   "source": [
    "x = final_data['People_Batting'][\"data\"]['yearID']\n",
    "y = final_data['People_Batting'][\"data\"]['yearID'].value_counts(dropna=False)\n",
    "fig = go.Figure(data=go.Bar(y=y, x=x))\n",
    "fig.write_html('visuals/people_batting_count_by_yr.html', auto_open=False)"
   ]
  },
  {
   "cell_type": "code",
   "execution_count": 9,
   "metadata": {},
   "outputs": [],
   "source": [
    "def plot_to_html(data, x_col, y_col, filename):\n",
    "    x = data[x_col]\n",
    "    y = data[y_col]\n",
    "    fig = go.Figure(data=go.Bar(y=y, x=x))\n",
    "    fig.write_html(filename, auto_open=False)"
   ]
  },
  {
   "cell_type": "code",
   "execution_count": 12,
   "metadata": {},
   "outputs": [],
   "source": [
    "plot_to_html(final_data['People_Batting'][\"data\"], 'yearID', 'G', 'visuals/people_batting_games_by_yr.html')\n",
    "plot_to_html(final_data['People_Batting'][\"data\"], 'yearID', 'RBI', 'visuals/people_batting_rbi_by_yr.html')"
   ]
  },
  {
   "cell_type": "code",
   "execution_count": null,
   "metadata": {},
   "outputs": [],
   "source": []
  }
 ],
 "metadata": {
  "kernelspec": {
   "display_name": "Python 3",
   "language": "python",
   "name": "python3"
  },
  "language_info": {
   "codemirror_mode": {
    "name": "ipython",
    "version": 3
   },
   "file_extension": ".py",
   "mimetype": "text/x-python",
   "name": "python",
   "nbconvert_exporter": "python",
   "pygments_lexer": "ipython3",
   "version": "3.6.5"
  }
 },
 "nbformat": 4,
 "nbformat_minor": 2
}
